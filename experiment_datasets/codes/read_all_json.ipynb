{
 "cells": [
  {
   "cell_type": "markdown",
   "metadata": {},
   "source": [
    "### Read all.json file"
   ]
  },
  {
   "cell_type": "code",
   "execution_count": 1,
   "metadata": {},
   "outputs": [
    {
     "ename": "KeyError",
     "evalue": "'results'",
     "output_type": "error",
     "traceback": [
      "\u001b[0;31m---------------------------------------------------------------------------\u001b[0m",
      "\u001b[0;31mKeyError\u001b[0m                                  Traceback (most recent call last)",
      "Cell \u001b[0;32mIn[1], line 20\u001b[0m\n\u001b[1;32m     18\u001b[0m     query_class \u001b[38;5;241m=\u001b[39m question[\u001b[38;5;124m'\u001b[39m\u001b[38;5;124mquery_class\u001b[39m\u001b[38;5;124m'\u001b[39m]\n\u001b[1;32m     19\u001b[0m     number_of_patterns \u001b[38;5;241m=\u001b[39m question[\u001b[38;5;124m'\u001b[39m\u001b[38;5;124mnumber_of_patterns\u001b[39m\u001b[38;5;124m'\u001b[39m]\n\u001b[0;32m---> 20\u001b[0m     resutls \u001b[38;5;241m=\u001b[39m \u001b[43mquestion\u001b[49m\u001b[43m[\u001b[49m\u001b[38;5;124;43m'\u001b[39;49m\u001b[38;5;124;43mresults\u001b[39;49m\u001b[38;5;124;43m'\u001b[39;49m\u001b[43m]\u001b[49m\n\u001b[1;32m     21\u001b[0m     records\u001b[38;5;241m.\u001b[39mappend((\u001b[38;5;28mid\u001b[39m, query_type, question_text, paraphrased_question, query, template_id,\n\u001b[1;32m     22\u001b[0m                      auto_generated, query_shape, query_class, number_of_patterns, resutls))\n\u001b[1;32m     24\u001b[0m \u001b[38;5;66;03m# Create DataFrame\u001b[39;00m\n",
      "\u001b[0;31mKeyError\u001b[0m: 'results'"
     ]
    }
   ],
   "source": [
    "import pandas as pd\n",
    "import json\n",
    "\n",
    "# Parse the JSON data\n",
    "data = json.loads(open('/Users/sherrypan/GitHub/QAoverSKGs/SciQA-dataset/all.json').read())\n",
    "\n",
    "# Extract the relevant fields and convert to DataFrame\n",
    "records = []\n",
    "for question in data['questions']:\n",
    "    id = question['id']\n",
    "    query_type = question['query_type']\n",
    "    question_text = question['question']  \n",
    "    paraphrased_question = question['paraphrased_question'] \n",
    "    query = question['query']\n",
    "    template_id = question['template_id']\n",
    "    auto_generated = question['auto_generated']\n",
    "    query_shape = question['query_shape']\n",
    "    query_class = question['query_class']\n",
    "    number_of_patterns = question['number_of_patterns']\n",
    "    resutls = question['results']\n",
    "    records.append((id, query_type, question_text, paraphrased_question, query, template_id,\n",
    "                     auto_generated, query_shape, query_class, number_of_patterns, resutls))\n",
    "\n",
    "# Create DataFrame\n",
    "df = pd.DataFrame(records, columns=['id', 'query_type', 'question_text', 'paraphrased_question', 'query', 'template_id', \n",
    "                                    'auto_generated', 'query_shape', 'query_class', 'number_of_patterns', 'resutls'])"
   ]
  },
  {
   "cell_type": "markdown",
   "metadata": {},
   "source": [
    "### Filter all handcrafted questions and save it to a new csv file"
   ]
  },
  {
   "cell_type": "code",
   "execution_count": 18,
   "metadata": {},
   "outputs": [
    {
     "data": {
      "text/plain": [
       "id                      100\n",
       "query_type              100\n",
       "question_text           100\n",
       "paraphrased_question    100\n",
       "query                   100\n",
       "template_id               0\n",
       "auto_generated          100\n",
       "query_shape             100\n",
       "query_class             100\n",
       "number_of_patterns      100\n",
       "resutls                 100\n",
       "dtype: int64"
      ]
     },
     "execution_count": 18,
     "metadata": {},
     "output_type": "execute_result"
    }
   ],
   "source": [
    "handcrafted = df[df['auto_generated'] == False]\n",
    "handcrafted.count()"
   ]
  },
  {
   "cell_type": "code",
   "execution_count": null,
   "metadata": {},
   "outputs": [],
   "source": [
    "handcrafted_questions = [i['string'] for i in handcrafted['question_text']]\n",
    "handcrafted_query = [i['sparql'] for i in handcrafted['query']]\n",
    "handcrafted_df = pd.DataFrame({'question': handcrafted_questions, 'query': handcrafted_query})\n",
    "handcrafted_df.to_csv('/Users/sherrypan/GitHub/QAoverSKGs/data/handcrafted.csv', index=False)\n"
   ]
  },
  {
   "cell_type": "code",
   "execution_count": null,
   "metadata": {},
   "outputs": [],
   "source": []
  }
 ],
 "metadata": {
  "kernelspec": {
   "display_name": "Python 3",
   "language": "python",
   "name": "python3"
  },
  "language_info": {
   "codemirror_mode": {
    "name": "ipython",
    "version": 3
   },
   "file_extension": ".py",
   "mimetype": "text/x-python",
   "name": "python",
   "nbconvert_exporter": "python",
   "pygments_lexer": "ipython3",
   "version": "3.9.6"
  }
 },
 "nbformat": 4,
 "nbformat_minor": 2
}
